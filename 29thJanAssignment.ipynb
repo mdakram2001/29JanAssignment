{
 "cells": [
  {
   "cell_type": "raw",
   "metadata": {},
   "source": [
    "1. Python Programming Language was developed by Guido van Rossum.\n",
    "\n",
    "2. Python is an interpreted programming language, which supports object-oriented, structured, and functional programming.\n",
    "\n",
    "3. Yes, Python is case sensitive while dealing with identifiers.\n",
    "\n",
    "4. \".py\" is the correct extension of the python file.\n",
    "\n",
    "5. Python code is compiled as well as interpreted.\n",
    "\n",
    "6. Indentation is used to define a block of code in Python language.\n",
    "\n",
    "7. Hash \"#\" character used to give single-line comments in python.\n",
    "\n",
    "8. 'sys.version' can help us to find the version of python that we are currently working on.\n",
    "\n",
    "9. Lambda\n",
    "\n",
    "10. Preferred Installer Program\n",
    "\n",
    "11. Some built-in functions in python are:\n",
    "int(), float(), input(), print(), len(), type(), str(), format() etc.\n",
    "\n",
    "12. Identifier doesn't have any fix length, it can be of any length.\n",
    "\n",
    "13. Python is a language which is simple to use and understand for newbies. It is also free and open source. Interpreted Language is one of the features that makes it simple to use. Python has extensive libraries that user can use. The standard library in Python is immense, and it includes almost every function. Python is a Dynamically typed programming language, it allocates the data type automatically during execution.\n",
    "\n",
    "14. The Python Memory Manager is tasked with managing the allocation and deallocation of memory for multiple processes that are currently running in Python.\n",
    "\n",
    "15. Steps:\n",
    "  i)  Install Python from the official site: https://www.python.org/\n",
    " ii)  Find the location where Python has been installed on your PC.\n",
    "iii)  Copy the path of the Python folder from the navigation section on your PC.\n",
    " iv)  Now go to environment variables inside control panel of your PC.\n",
    "  v)  Click on edit the system environment variables, it will open up 'System Properties' window.\n",
    " vi)  Open the Environment variable window by clicking on it.\n",
    "vii)  Now in 'System variable' section, select path variable and click on edit will open up another window.\n",
    "viii) Now Click on 'New' button and paste the path copied in the number (iii)\n",
    " ix)  Now click 'ok' in all steps and complete the process and its DONE!\n",
    " \n",
    "16. Yes! Indentation is mandatory in Python otherwise it will give an error"
   ]
  },
  {
   "cell_type": "code",
   "execution_count": null,
   "metadata": {},
   "outputs": [],
   "source": [
    "a = 10\n",
    "if a == 1:\n",
    "print(\"a is 1\")\n",
    "else:\n",
    "    print(\"\")"
   ]
  }
 ],
 "metadata": {
  "kernelspec": {
   "display_name": "Python 3 (ipykernel)",
   "language": "python",
   "name": "python3"
  },
  "language_info": {
   "codemirror_mode": {
    "name": "ipython",
    "version": 3
   },
   "file_extension": ".py",
   "mimetype": "text/x-python",
   "name": "python",
   "nbconvert_exporter": "python",
   "pygments_lexer": "ipython3",
   "version": "3.10.8"
  }
 },
 "nbformat": 4,
 "nbformat_minor": 4
}
